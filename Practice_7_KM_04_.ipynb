{
  "nbformat": 4,
  "nbformat_minor": 0,
  "metadata": {
    "colab": {
      "name": "Practice_7_KM-01_.ipynb",
      "provenance": [],
      "collapsed_sections": []
    },
    "kernelspec": {
      "name": "python3",
      "display_name": "Python 3.8.5 32-bit",
      "metadata": {
        "interpreter": {
          "hash": "0d02af3b61c195dc1b7fc52a0e92c994a00aec15fc660077719c4003a20d5e27"
        }
      }
    }
  },
  "cells": [
    {
      "cell_type": "markdown",
      "metadata": {
        "id": "FMqboNwO4rVs"
      },
      "source": [
        "# **Курс \"Програмування на мові Python\"**\n",
        "\n",
        "##### Викладачі:\n",
        "##### Борисенко Павло Борисович\n",
        "##### Щьоголєв Максим Олегович\n"
      ]
    },
    {
      "cell_type": "markdown",
      "metadata": {
        "id": "A2T6MigL5Z06"
      },
      "source": [
        "## **Практичне зайняття №7**\n",
        "\n",
        "### Тема: \"Перевірка даних. Робота з виключеннями. Регулярні вирази\""
      ]
    },
    {
      "cell_type": "markdown",
      "metadata": {
        "id": "cfCdgK2zXm7e"
      },
      "source": [
        "### **Завдання 1 (1,5 бали)**\n",
        "\n",
        "Переробити завдання №1 практичної роботи №6 з використанням регулярних виразів.\n",
        "\n",
        "1. Створити шаблон регулярного виразу.\n",
        "\n",
        "2. За допомогою функції compile() створити об'єкт регулярного виразу.\n",
        "\n",
        "3. Всі інші вимоги залишаються такими ж, як і в оригінальному завданні."
      ]
    },
    {
      "cell_type": "code",
      "metadata": {
        "id": "ifNX2M7LXm7f"
      },
      "source": [
        "import re\n",
        "\n",
        "pose_estimation = \"[BodyPart:0-(0.56, 0.23) score=0.80 BodyPart:1-(0.57, 0.33) score=0.79 BodyPart:2-(0.52, 0.35) score=0.70 BodyPart:3-(0.46, 0.40) score=0.69 BodyPart:4-(0.36, 0.41) score=0.84 BodyPart:5-(0.61, 0.32) score=0.72 BodyPart:6-(0.61, 0.21) score=0.58 BodyPart:7-(0.59, 0.11) score=0.80 BodyPart:8-(0.56, 0.52) score=0.43 BodyPart:9-(0.61, 0.65) score=0.36 BodyPart:10-(0.60, 0.80) score=0.63 BodyPart:11-(0.59, 0.51) score=0.50 BodyPart:12-(0.56, 0.65) score=0.50 BodyPart:13-(0.53, 0.80) score=0.69 BodyPart:14-(0.55, 0.22) score=0.64 BodyPart:15-(0.57, 0.22) score=0.67 BodyPart:17-(0.60, 0.24) score=0.33]\"\n",
        "points = []\n",
        "scores = []\n",
        "\n",
        "points_pattern = re.compile(r'\\(([0-9, .]*)\\)')\n",
        "scores_pattern = re.compile(r'score=([0-9.]*)')\n",
        "\n",
        "points = points_pattern.findall(pose_estimation)\n",
        "scores = scores_pattern.findall(pose_estimation)\n",
        "\n",
        "print('points =', points)\n",
        "print('scores =', scores)"
      ],
      "execution_count": 3,
      "outputs": [
        {
          "output_type": "stream",
          "name": "stdout",
          "text": [
            "points = ['0.56, 0.23', '0.57, 0.33', '0.52, 0.35', '0.46, 0.40', '0.36, 0.41', '0.61, 0.32', '0.61, 0.21', '0.59, 0.11', '0.56, 0.52', '0.61, 0.65', '0.60, 0.80', '0.59, 0.51', '0.56, 0.65', '0.53, 0.80', '0.55, 0.22', '0.57, 0.22', '0.60, 0.24']\nscores = ['0.80', '0.79', '0.70', '0.69', '0.84', '0.72', '0.58', '0.80', '0.43', '0.36', '0.63', '0.50', '0.50', '0.69', '0.64', '0.67', '0.33']\n"
          ]
        }
      ]
    },
    {
      "cell_type": "markdown",
      "metadata": {
        "id": "M1Sg0vXJXm7n"
      },
      "source": [
        "### **Завдання 2 (1,5 бали)**\n",
        "\n",
        "Написати програму підрахунку коренів квадратного рівняння без попередніх перевірок.\n",
        "\n",
        "1. Користувач має вводити коефіцієнти a, b та c з клавіатури.\n",
        "\n",
        "2. Програма має обробляти помилки ділення на 0, кореня від'ємного числа та інші, а також виводити відповідні повідомлення у разі виникнення таких помилок.\n",
        "\n",
        "3. Якщо рівняння не має коренів, программа має генерувати помилку за допомогою ключового слова raise, а потім обробляти її.\n",
        "\n",
        "4. Правильно написана програма при виникненні різних помилок має виводити текст помилки, а також різні повідомлення про те, в чому суть цих помилок. Необроблених помилок бути не повинно."
      ]
    },
    {
      "cell_type": "code",
      "metadata": {
        "id": "co7fcAuvXm7o"
      },
      "source": [
        "import math\n",
        "\n",
        "\n",
        "def check_num():\n",
        "    while True:\n",
        "        try:\n",
        "            number = int(input())\n",
        "        except ValueError:\n",
        "            print('Not number')\n",
        "        else:\n",
        "            break\n",
        "    return (number)\n",
        "\n",
        "\n",
        "print('ax^2 + bx + c = 0')\n",
        "\n",
        "while 3 > 2:\n",
        "    print('Input a - ')\n",
        "    a = check_num()\n",
        "    print('Input b - ')\n",
        "    b = check_num()\n",
        "    print('Input c - ')\n",
        "    c = check_num()\n",
        "\n",
        "    try:\n",
        "        diskriminant = b * b - 4 * a * c\n",
        "        if diskriminant < 0:\n",
        "            raise IndexError()\n",
        "        else:\n",
        "            answer1 = (-b + math.sqrt(diskriminant)) / (a * 2)\n",
        "            answer2 = (-b - math.sqrt(diskriminant)) / (a * 2)\n",
        "    except ZeroDivisionError:\n",
        "        print('Division by 0!')\n",
        "    except ValueError:\n",
        "        print('Square root is negative!')\n",
        "    except IndexError:\n",
        "        print('0 roots!')\n",
        "    else:\n",
        "        print('x1=', round(answer1, 3), 'x2=', round(answer2, 3))\n",
        "\n",
        "    q = input(\"Continue? yes - 'y' or press any key \")\n",
        "\n",
        "    if q != \"y\" and q != \"Y\":\n",
        "        break\n",
        "    else:\n",
        "        continue"
      ],
      "execution_count": 4,
      "outputs": []
    },
    {
      "cell_type": "code",
      "execution_count": null,
      "metadata": {},
      "outputs": [],
      "source": [
        "3\n",
        "1\n",
        "2\n"
      ]
    }
  ]
}