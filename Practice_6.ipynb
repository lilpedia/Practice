{
  "nbformat": 4,
  "nbformat_minor": 0,
  "metadata": {
    "colab": {
      "name": "Practice_6.ipynb",
      "provenance": [],
      "collapsed_sections": [
        "LyWSBl0DOxJ8",
        "5qzvb1n_va3D",
        "fRXqCrBOmwAX"
      ]
    },
    "kernelspec": {
      "name": "python3",
      "display_name": "Python 3"
    }
  },
  "cells": [
    {
      "cell_type": "markdown",
      "metadata": {
        "id": "FMqboNwO4rVs"
      },
      "source": [
        "# **Курс \"Програмування на мові Python\"**\n",
        "\n",
        "##### Викладачі:\n",
        "##### Борисенко Павло Борисович\n",
        "##### Щьоголєв Максим Олегович\n"
      ]
    },
    {
      "cell_type": "markdown",
      "metadata": {
        "id": "A2T6MigL5Z06"
      },
      "source": [
        "## **Практичне зайняття №6**\n",
        "\n",
        "### Тема: \"Робота з рядками. Глибокі копії об'єктів.\""
      ]
    },
    {
      "cell_type": "markdown",
      "metadata": {
        "id": "LyWSBl0DOxJ8"
      },
      "source": [
        "### **1. Робота з рядками**"
      ]
    },
    {
      "cell_type": "markdown",
      "metadata": {
        "id": "uD_xUD86O13C"
      },
      "source": [
        "**Рядок** - це впорядкований набір символів.\n",
        "\n",
        "Символ в цьому визначенні - будь-що, що може бути надруковано на клавіатурі. Це можуть бути літери ('a', 'b', 'c'), цифри ('1', '2', '3') та спеціальні символи (',', '\\', '[', '$').\n",
        "\n",
        "Рядки є незмінюваними. Це означає, що рядок не можна змінити після створення. Зміна рядка фактично означає створення нового рядка.\n",
        "\n",
        "Щоб позначити початок та кінець рядка, використовують одинарні або подвійні лапки. Але в одному рядку не можна використовувати обидва типи лапок одночасно.\n",
        "\n",
        "Можливість використовувати лапки двох типів стає у нагоді, коли сам рядок повинен містити лапки. Якщо рядок повинен містити одинарні лапки, то символами початку та закінчення рядка можуть слугувати подвійні лапки, та навпаки. Наприклад:"
      ]
    },
    {
      "cell_type": "code",
      "metadata": {
        "id": "Ev5bWcILeZ9u"
      },
      "source": [
        "print(\"It's the day\")\n",
        "print('She said \"hello\" to everyone')"
      ],
      "execution_count": null,
      "outputs": []
    },
    {
      "cell_type": "markdown",
      "metadata": {
        "id": "jwX6rJx7fI6U"
      },
      "source": [
        "Також можна використовувати три пари лапок, щоб мати змогу розбивати текст на кілька рядків. Наприклад:"
      ]
    },
    {
      "cell_type": "code",
      "metadata": {
        "id": "jQiKv7KsfJD2"
      },
      "source": [
        "z = \"\"\"\n",
        "Hello\n",
        "  World\n",
        "\"\"\"\n",
        "print(z)"
      ],
      "execution_count": null,
      "outputs": []
    },
    {
      "cell_type": "markdown",
      "metadata": {
        "id": "xW2MWYrJhFtL"
      },
      "source": [
        "#### Робота з рядками"
      ]
    },
    {
      "cell_type": "markdown",
      "metadata": {
        "id": "G74C5zfAhJHZ"
      },
      "source": [
        "Конкатенацію двох та більше рядків можна зробити за допомогою оператора '**+'**. Зверніть увагу на те, що спосіб задання рядка (кількість лапок) не має значення. Наприклад:"
      ]
    },
    {
      "cell_type": "code",
      "metadata": {
        "id": "wx99pbewhIjE"
      },
      "source": [
        "string_1 = 'Good'\n",
        "string_2 = \" day\"\n",
        "string_3 = string_1 + string_2\n",
        "print(string_3)\n",
        "print('Hello ' + 'World')"
      ],
      "execution_count": null,
      "outputs": []
    },
    {
      "cell_type": "markdown",
      "metadata": {
        "id": "gTqZz0GMiEFA"
      },
      "source": [
        "Для визначення довжини рядка використовують функцію **len()**."
      ]
    },
    {
      "cell_type": "code",
      "metadata": {
        "id": "M0WC98xahw23"
      },
      "source": [
        "my_string = 'Hello, world!'\n",
        "print(len(my_string))"
      ],
      "execution_count": null,
      "outputs": []
    },
    {
      "cell_type": "markdown",
      "metadata": {
        "id": "ez7gxybrjCVa"
      },
      "source": [
        "Щоб отримати підмножину символів рядка (зріз), використовують оператор **':'**. Наприклад:"
      ]
    },
    {
      "cell_type": "code",
      "metadata": {
        "id": "qNkbUEf3i9Nu"
      },
      "source": [
        "my_string = 'Hello, World!'\n",
        "print(my_string[4]) # characters at position 4\n",
        "print(my_string[1:5]) # from position 1 to 5\n",
        "print(my_string[:5]) # from start to position 5\n",
        "print(my_string[2:]) # from position 2 to the end"
      ],
      "execution_count": null,
      "outputs": []
    },
    {
      "cell_type": "markdown",
      "metadata": {
        "id": "ahf0V6DyjixQ"
      },
      "source": [
        "Оператор **'*'** також можна використовувати для рядків. Він дозволяє дублювати поданий рядок певну кількість разів. Наприклад:"
      ]
    },
    {
      "cell_type": "code",
      "metadata": {
        "id": "_BAF44M8vzEE"
      },
      "source": [
        "print('*' * 10)\n",
        "print('Hi' * 10)"
      ],
      "execution_count": null,
      "outputs": []
    },
    {
      "cell_type": "markdown",
      "metadata": {
        "id": "-8qwfQiQv7Pj"
      },
      "source": [
        "Дуже розповсюдженою є задача розбиття рядка на кілька рядків за певним символом, як-от кома чи пробіл. Це можна зробити за допомогою методу **split()**. Аргументом цього методу є символ (або символи), за якими розбивається рядок. Приклад:"
      ]
    },
    {
      "cell_type": "code",
      "metadata": {
        "id": "APcsQnPUv3T9"
      },
      "source": [
        "title = 'The Good, The Bad, and the Ugly'\n",
        "print('Source string:', title)\n",
        "print('Split using a space')\n",
        "print(title.split(' '))\n",
        "print('Split using a comma')\n",
        "print(title.split(','))"
      ],
      "execution_count": null,
      "outputs": []
    },
    {
      "cell_type": "markdown",
      "metadata": {
        "id": "A4IHFnEly7gJ"
      },
      "source": [
        "Щоб підрахувати, скільки разів певний рядок зустрічається в іншому рядку, використовується метод **count()**. Приклад:"
      ]
    },
    {
      "cell_type": "code",
      "metadata": {
        "id": "_4BV4lQly6AU"
      },
      "source": [
        "my_string = 'Count, the number     of spaces'\n",
        "print(\"my_string.count(' '):\", my_string.count(' '))"
      ],
      "execution_count": null,
      "outputs": []
    },
    {
      "cell_type": "markdown",
      "metadata": {
        "id": "DSzIibUazuVz"
      },
      "source": [
        "Частину рядка (підрядок) можна замінити іншим рядком за допомогою методу **replace()**. Приклад:"
      ]
    },
    {
      "cell_type": "code",
      "metadata": {
        "id": "970LVGrTzqi2"
      },
      "source": [
        "welcome_message = 'Hello World!'\n",
        "print(welcome_message.replace(\"Hello\", \"Goodbye\"))"
      ],
      "execution_count": null,
      "outputs": []
    },
    {
      "cell_type": "markdown",
      "metadata": {
        "id": "5YVhuAQ51Qzl"
      },
      "source": [
        "Щоб визначити, чи є рядок підрядком певного іншого рядка, застосовують метод **find()**. Якщо заданого підрядка у рядку немає, метод повертає -1. Інакше він повертає індекс першого символу підрядка у рядку, що перевіряється. Наприклад:"
      ]
    },
    {
      "cell_type": "code",
      "metadata": {
        "id": "U5TkrUee1N-h"
      },
      "source": [
        "print('Pamela Lyndon Travers'.find('Lyndon'))\n",
        "print('Alan Alexander Milne'.find('Lyndon'))"
      ],
      "execution_count": null,
      "outputs": []
    },
    {
      "cell_type": "markdown",
      "metadata": {
        "id": "FqzHs18P3mTN"
      },
      "source": [
        "Щоб перетворити інші типи даних в рядковий тип, використовують функцію **str()**. Наприклад:"
      ]
    },
    {
      "cell_type": "code",
      "metadata": {
        "id": "Z4_2oNNq22Xi"
      },
      "source": [
        "msg = 'Hello Lloyd you are ' + str(21)\n",
        "print(msg)"
      ],
      "execution_count": null,
      "outputs": []
    },
    {
      "cell_type": "markdown",
      "metadata": {
        "id": "qb5bjPPD4IGY"
      },
      "source": [
        "Щоб порівняти два рядки між собою, можна використати оператор рівності **'=='** або нерівності **'!='**. Порівняння повертає значення True або False. Зверніть увагу на те, що рядки у Python чутливі до регістру. Наприклад:"
      ]
    },
    {
      "cell_type": "code",
      "metadata": {
        "id": "wTnd9-R94Dlj"
      },
      "source": [
        "print('James' == 'James')\n",
        "print('James' == 'John')\n",
        "print('James' != 'John')\n",
        "print('James' == 'james')"
      ],
      "execution_count": null,
      "outputs": []
    },
    {
      "cell_type": "markdown",
      "metadata": {
        "id": "3PerswHH5rG7"
      },
      "source": [
        "Приклади роботи інших рядкових методів:"
      ]
    },
    {
      "cell_type": "code",
      "metadata": {
        "id": "uox-E0qe5zzO"
      },
      "source": [
        "some_string = 'Hello world'\n",
        "print('Testing a String')\n",
        "print('-' * 20)\n",
        "print('some_string:', some_string)\n",
        "print(\"some_string.startswith('H')\",\n",
        "some_string.startswith('H'))\n",
        "print(\"some_string.startswith('h')\",\n",
        "some_string.startswith('h'))\n",
        "print(\"some_string.endswith('d')\", some_string.endswith('d'))\n",
        "print('some_string.istitle()', some_string.istitle())\n",
        "print('some_string.isupper()', some_string.isupper())\n",
        "print('some_string.islower()', some_string.islower())\n",
        "print('some_string.isalpha()', some_string.isalpha())\n",
        "print()\n",
        "print('String conversions')\n",
        "print('-' * 20)\n",
        "print('some_string.upper()', some_string.upper())\n",
        "print('some_string.lower()', some_string.lower())\n",
        "print('some_string.title()', some_string.title())\n",
        "print('some_string.swapcase()', some_string.swapcase())\n",
        "print('String leading, trailing spaces', \" xyz \".strip())"
      ],
      "execution_count": null,
      "outputs": []
    },
    {
      "cell_type": "markdown",
      "metadata": {
        "id": "ZtpjpRvh7PIA"
      },
      "source": [
        "#### Форматування рядків"
      ]
    },
    {
      "cell_type": "markdown",
      "metadata": {
        "id": "mpunUI-0IACO"
      },
      "source": [
        "У мові програмування Python створена зручна система форматування рядків, що може бути корисною для виведення інформації або запису результатів роботи програми.\n",
        "\n",
        "Система форматування рядків використовує спеціальний рядок, який називають **рядком формату** (format string). Він відіграє роль шаблону, що визначає, який вигляд матиме результуючий рядок. Рядок формату може містити **заповнювачі** (placeholders), які буде замінено актуальними значеннями під час форматування результуючого рядка. Набір значень може бути застосований до рядка формату за допомогою методу **format()**. Найпростіший приклад рядка формату з одним заповнювачем (задається двома фігурними дужками):"
      ]
    },
    {
      "cell_type": "code",
      "metadata": {
        "id": "QsOysdnv51rQ"
      },
      "source": [
        "format_string = 'Hello {}!'\n",
        "print(format_string.format('John'))"
      ],
      "execution_count": null,
      "outputs": []
    },
    {
      "cell_type": "markdown",
      "metadata": {
        "id": "NXAvyQx6MU7P"
      },
      "source": [
        "Рядок формату може містити будь-яку кількість заповнювачів. Приклад рядка формату з двома заповнювачами:"
      ]
    },
    {
      "cell_type": "code",
      "metadata": {
        "id": "6G0xIzUKMDUg"
      },
      "source": [
        "name = \"Adam\"\n",
        "age = 20\n",
        "print(\"{} is {} years old\".format(name, age))"
      ],
      "execution_count": null,
      "outputs": []
    },
    {
      "cell_type": "markdown",
      "metadata": {
        "id": "lB3tY9rfNVej"
      },
      "source": [
        "За замовчуванням значення прив'язуються до заповнювачів у тому порядку, в якому вони зустрічаються у методі format(). Але це можна змінити за допомогою **індекса**, заданого всередині заповнювача. Наприклад:"
      ]
    },
    {
      "cell_type": "code",
      "metadata": {
        "id": "BK8WIGV0OKpo"
      },
      "source": [
        "format_string = \"Hello {1} {0}, you got {2}%\"\n",
        "print(format_string.format('Smith', 'Carol', 75))"
      ],
      "execution_count": null,
      "outputs": []
    },
    {
      "cell_type": "markdown",
      "metadata": {
        "id": "ElEaYFFfOfWi"
      },
      "source": [
        "Альтернативний варіант - використовувати **іменовані значення** для заповнювачів. В цьому випадку у фігурні дужки записуються назви ключів, що відповідають потрібним значенням. Приклад:"
      ]
    },
    {
      "cell_type": "code",
      "metadata": {
        "id": "So41ye7yOPAZ"
      },
      "source": [
        "format_string = \"{artist} sang {song} in {year}\"\n",
        "print(format_string.format(artist='David Bowie', song='Starman', year=1972))"
      ],
      "execution_count": null,
      "outputs": []
    },
    {
      "cell_type": "markdown",
      "metadata": {
        "id": "uJ8AVbi6RDxU"
      },
      "source": [
        "Також можна вказати вирівнювання та довжину рядка у рядку формату. Наприклад, щоб залишити n позицій для заповнювача, можна оформити заповнювач так: {:n}. У наступному прикладі для заповнювача виділяється 25 позицій."
      ]
    },
    {
      "cell_type": "code",
      "metadata": {
        "id": "1m1qgRqaP6uT"
      },
      "source": [
        "print('|{:25}|'.format('25 characters width'))"
      ],
      "execution_count": null,
      "outputs": []
    },
    {
      "cell_type": "markdown",
      "metadata": {
        "id": "k19cecACstz_"
      },
      "source": [
        "У межах проміжку, що утворився, можна робити вирівнювання:\n",
        "\n",
        "*   '<' - вирівнювання по лівому краю (стоїть за замовчуванням)\n",
        "*   '>' - вирівнювання по правому краю;\n",
        "*   '^' - вирівнювання по центру.\n",
        "\n",
        "Приклад:\n",
        "\n"
      ]
    },
    {
      "cell_type": "code",
      "metadata": {
        "id": "vhNlMc9rq_FZ"
      },
      "source": [
        "print('|{:<25}|'.format('left aligned'))\n",
        "print('|{:>25}|'.format('right aligned'))\n",
        "print('|{:^25}|'.format('centered'))"
      ],
      "execution_count": null,
      "outputs": []
    },
    {
      "cell_type": "markdown",
      "metadata": {
        "id": "5OtwZZ8-txNY"
      },
      "source": [
        "Окрім того, використовуючи двокрапку та кому, можна виділяти тисячі у великих числах:"
      ]
    },
    {
      "cell_type": "code",
      "metadata": {
        "id": "2o1t80KttqsX"
      },
      "source": [
        "print('{:,}'.format(1234567890))\n",
        "print('{:,}'.format(1234567890.0))"
      ],
      "execution_count": null,
      "outputs": []
    },
    {
      "cell_type": "markdown",
      "metadata": {
        "id": "5qzvb1n_va3D"
      },
      "source": [
        "#### Байтові рядки"
      ]
    },
    {
      "cell_type": "markdown",
      "metadata": {
        "id": "_ywPSuOIvc93"
      },
      "source": [
        "**Байт** - одиниця зберігання та обробки цифрової інформації, що складається з 8 біт. Будь-яка цифрова інформація (текст, зображення, мелодія тощо) складається з послідовності байтів.\n",
        "\n",
        "До байтових рядків можна застосовувати майже всі методи, що використовуються для звийчайних рядків.\n",
        "\n",
        "Метод **encode()** та функція **bytes()** повертають закодовану версію поданого рядка. Аргуметом в обох випадках є використовуване кодування. У методі encode() кодування UTF-8 стоїть за замовчуванням, а у функції bytes() його потрібно обов'язково прописати."
      ]
    },
    {
      "cell_type": "code",
      "metadata": {
        "id": "nIn2cTDqkHwK"
      },
      "source": [
        "byte_string_1 = 'Байти'.encode()\n",
        "print(byte_string_1)\n",
        "\n",
        "byte_string_2 = bytes('Байти', 'utf-8')\n",
        "print(byte_string_2)"
      ],
      "execution_count": null,
      "outputs": []
    },
    {
      "cell_type": "markdown",
      "metadata": {
        "id": "FqiAu-mFvF0e"
      },
      "source": [
        "Щоб перетворити байтовий рядок у текст, можна використати метод **decode()** або функцію **str()**. Аргументи прописуються так само, як і у відповідних методів перетворення тексту в рядок."
      ]
    },
    {
      "cell_type": "code",
      "metadata": {
        "id": "20xzr-IkmoS3"
      },
      "source": [
        "decoded_string_1 = byte_string_1.decode()\n",
        "print(decoded_string_1)\n",
        "\n",
        "decoded_string_2 = str(byte_string_2, 'utf-8')\n",
        "print(decoded_string_2)"
      ],
      "execution_count": null,
      "outputs": []
    },
    {
      "cell_type": "markdown",
      "metadata": {
        "id": "fRXqCrBOmwAX"
      },
      "source": [
        "### **2. Глибокі копії об'єктів**"
      ]
    },
    {
      "cell_type": "markdown",
      "metadata": {
        "id": "tVOQlB0dm0SX"
      },
      "source": [
        "Операція присвоювання насправді не копіює об'єкт, а робить посилання на нього. Наприклад:"
      ]
    },
    {
      "cell_type": "code",
      "metadata": {
        "id": "XG_s48q5KMV_"
      },
      "source": [
        "list1 = ['a', 'b', 'c']\n",
        "list2 = list1\n",
        "list2.append('d')\n",
        "print(list1)\n",
        "print(list2)"
      ],
      "execution_count": null,
      "outputs": []
    },
    {
      "cell_type": "markdown",
      "metadata": {
        "id": "cb_STE_1NwM-"
      },
      "source": [
        "Для змінюваних колекцій або для колекцій, що містять змінювані елементи, така копія, часто необхідна, щоб її можна було змінити, не змінюючи оригіналу.\n",
        "\n",
        "Копії бувають двох типів: **поверхневі** та **глибокі**.\n",
        "\n",
        "Різниця між поверхневими та глибокими копіями є суттєвою лише для об'єктів, що складаються з інших об'єктів (контейнерів).\n",
        "\n",
        "**Поверхнева копія** створює новий об'єкт, а потім вставляє в нього ***посилання*** на об'єкти, що містяться в оригіналі.\n",
        "\n",
        "**Глибока копія** створює новий об'єкт, а потім рекурсивно вставляє в нього ***копії*** об'єктів, що містяться в оригіналі.\n",
        "\n",
        "**Поверхневу копію** об'єкта повертає метод **copy()**.\n",
        "\n",
        "**Глибоку копію** об'єкта повертає метод **deepcopy()**.\n",
        "\n",
        "Зверніть увагу на те, що перед використанням цих методів треба імпортувати модуль **copy** за допомогою ключового слова **import**."
      ]
    },
    {
      "cell_type": "code",
      "metadata": {
        "id": "qrexFuatNnpP"
      },
      "source": [
        "import copy\n",
        "\n",
        "test_1 = [1, 2, 3, [1, 2, 3]]\n",
        "test_2 = copy.copy(test_1) \n",
        "print(test_1)\n",
        "print(test_2)\n",
        "print()\n",
        "\n",
        "test_2.append('new_element_1')\n",
        "print(\"Nesting level of 1:\")\n",
        "print(test_1)\n",
        "print(test_2)\n",
        "print()\n",
        "\n",
        "test_2[3].append('new_element_2')\n",
        "print(\"Nesting level of 2:\")\n",
        "print(test_1)\n",
        "print(test_2)"
      ],
      "execution_count": null,
      "outputs": []
    },
    {
      "cell_type": "markdown",
      "metadata": {
        "id": "VjhL1gD8ceox"
      },
      "source": [
        "Бачимо, що **поверхнева копія** об'єкта створює новий об'єкт та зберігає в ньому посилання на елементи оригіналу. Якщо додавати новий елемент до нового об'єкта (test_2), то елемент успішно додасться, а оригінал (test_1) не зміниться. Якщо ж змінити якийсь з елементів, що був взятий з оригінала, то зміниться і новий об'єкт, і оригінал."
      ]
    },
    {
      "cell_type": "code",
      "metadata": {
        "id": "EcH-WVg3WZ1x"
      },
      "source": [
        "import copy\n",
        "\n",
        "test_1 = [1, 2, 3, [1, 2, 3]]\n",
        "test_2 = copy.deepcopy(test_1) \n",
        "print(test_1)\n",
        "print(test_2)\n",
        "print()\n",
        "\n",
        "test_2.append('new_element_1')\n",
        "print(\"Nesting level of 1:\")\n",
        "print(test_1)\n",
        "print(test_2)\n",
        "print()\n",
        "\n",
        "test_2[3].append('new_element_2')\n",
        "print(\"Nesting level of 2:\")\n",
        "print(test_1)\n",
        "print(test_2)"
      ],
      "execution_count": null,
      "outputs": []
    },
    {
      "cell_type": "markdown",
      "metadata": {
        "id": "MywbTgSheZ8u"
      },
      "source": [
        "Бачимо, що **глибока копія** об'єкта створює новий об'єкт та зберігає в ньому самі елементи оригіналу, виділяючи для них окремі комірки в пам'яті. Глибока копія дозволяє в новому об'єкті змінювати елементи, що були скопійовані з оригінала, не змінюючи останнього."
      ]
    }
  ]
}